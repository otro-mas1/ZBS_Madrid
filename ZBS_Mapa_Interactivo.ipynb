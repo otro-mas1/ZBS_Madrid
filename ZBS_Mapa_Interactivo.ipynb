{
 "cells": [
  {
   "cell_type": "markdown",
   "metadata": {},
   "source": [
    "<font color='darkblue' size=18>Zonas Basicas de Salud con python</font><img src=\"img/Mercator-projection.jpg\" align='right'><img src=\"img/python-logo.png\" align='right'>\n",
    "\n",
    "### <font color='darkblue' size=12> Comunidad de Madrid</font>\n",
    "\n",
    "#### Vamos a usar python y alguna de sus librerías para crear una representación gráfica de datos sobre un mapa.\n",
    "\n",
    "##### Para ello necesitamos:\n",
    "\n",
    "    1. Un mapa base.\n",
    "    2. Shape de cada área del mapa.\n",
    "    3. Datos a representar de cada área/shape.\n",
    "    4. Asociar los datos de ZBS a cada shape.\n",
    "    5. Mapa con los datos.\n",
    "\n",
    "#### En este caso, serán datos de situación del COVID-19 en las Zonas Básicas de Salud de la Comunidad de Madrid.\n",
    "### Necesitamos datos:\n",
    "- Los shapes de las Zonas Básicas de Salud que forman el mapa de la Comunidad de Madrid.\n",
    "- Un dato a representar en el mapa. He escogido la Tasa de Incidencia Acumulada en los últimos 14 días. Esta serie de datos se llamará **TIA-14**.\n",
    "\n",
    "### Necesitamos librerías que nos permitan acceder a los datos, procesarlos y presentarlos de manera interactiva:\n",
    "- Podemos usar datos en local ó acceder a ellos a traves de su url pública. En este caso será con ficheros locales. El ejemplo sin ficheros locales? **ZBS_Madrid_url.ipynb**\n",
    "- Vamos a usar hvplot por su sencillez, está muy relacionado con pandas y permite acceder a holoviews y bokeh. Terminando con opciones interactivas.\n",
    "\n",
    "\n",
    "<br><br>\n",
    "### Empecemos importando las librerías que vamos a usar"
   ]
  },
  {
   "cell_type": "code",
   "execution_count": null,
   "metadata": {},
   "outputs": [],
   "source": [
    "# # Las dos siguientes líneas de código nos permite usar el 100% del ancho de pantalla.\n",
    "from IPython.display import display, HTML   \n",
    "display(HTML(\"<style>.container { width:100% !important; }</style>\"))\n",
    "\n",
    "\n",
    "from IPython.core.interactiveshell import InteractiveShell  # Para mostrar más de una salida por celda en el notebook."
   ]
  },
  {
   "cell_type": "code",
   "execution_count": null,
   "metadata": {},
   "outputs": [],
   "source": [
    "import geopandas as gpd\n",
    "import geoviews as gv\n",
    "import cartopy.crs as ccrs\n",
    "import pandas as pd\n",
    "from bokeh.models import FixedTicker\n",
    "\n",
    "gv.extension('bokeh')"
   ]
  },
  {
   "cell_type": "markdown",
   "metadata": {},
   "source": [
    "<br><br>\n",
    "## 1. Mapa Base.\n",
    "\n",
    "    Será de Wikipedia. Hay otras opciones posibles de Mapa Base."
   ]
  },
  {
   "cell_type": "code",
   "execution_count": null,
   "metadata": {},
   "outputs": [],
   "source": [
    "Mapa_Base = gv.tile_sources.Wikipedia\n",
    "Mapa_Base  # Ya tenemos Mapa Base y es interactivo!!"
   ]
  },
  {
   "cell_type": "markdown",
   "metadata": {},
   "source": [
    "---\n",
    "---\n",
    "<br><br>\n",
    "## 2. Colección de shapes de ZBS de la Comunidad de Madrid.\n",
    "\n",
    "\n",
    "### - Cargamos en un GeoDataFrame los shapes y una columna extra pob_pad19. Los ficheros los proporciona la Comunidad de Madrid <img src=\"img/logo_comunidad.png\" align='right' />\n",
    "- La CAM proporciona un fichero zip con los shapes de las Zonas Básicas Sanitarias. [Datos de shapes](https://datos.comunidad.madrid/catalogo/dataset/b3d55e40-8263-4c0b-827d-2bb23b5e7bab/resource/f1837bd3-a835-4110-9bbf-fae06c99b56b/download/zonas_basicas_salud.zip)\n",
    "\n",
    "[WEB Datos de Zonas Básicas de Madrid](https://datos.comunidad.madrid/catalogo/dataset/covid19_tia_zonas_basicas_salud)\n",
    "- Podríamos acceder a estos ficheros directamente online ó descargarlo y usarlo como fichero local.\n",
    "<br><br>\n",
    "#### **PREVIAMENTE** he descargado esos ficheros a un subdirectorio llamado 'zonas_basicas_salud'\n",
    "### Cargando los shapes"
   ]
  },
  {
   "cell_type": "code",
   "execution_count": null,
   "metadata": {},
   "outputs": [],
   "source": [
    "\n",
    "gdf_CAM = gpd.read_file('zonas_basicas_salud') # Le he indicado el nombre del subdirectorio y geopandas se encarga de cargar lo necesario.\n",
    "\n",
    "gdf_CAM_Mercator = gdf_CAM.to_crs(ccrs.GOOGLE_MERCATOR.proj4_init)  # Hay que adaptar las coordenadas de los shapes al estandar Mercator. Dejo los dos GeoDataFrame por si se quieren ver después."
   ]
  },
  {
   "cell_type": "code",
   "execution_count": null,
   "metadata": {},
   "outputs": [],
   "source": [
    "Mapa_ZBS = gv.Polygons(gdf_CAM_Mercator, vdims=['pob_pad19', 'zona_basic'], crs=ccrs.GOOGLE_MERCATOR)  \n",
    "Mapa_ZBS   # Ya tenemos la capa de ZBS!!"
   ]
  },
  {
   "cell_type": "markdown",
   "metadata": {},
   "source": [
    "### 2.1 Juntamos el Base y los Shapes de ZBS"
   ]
  },
  {
   "cell_type": "code",
   "execution_count": null,
   "metadata": {},
   "outputs": [],
   "source": [
    "Mapa_Base * Mapa_ZBS  # Juntando Piezas."
   ]
  },
  {
   "cell_type": "markdown",
   "metadata": {},
   "source": [
    "----\n",
    "----\n",
    "<br><br>\n",
    "## 3. Cargamos datos de COVID para cada ZBS\n",
    "\n",
    "- La CAM proporciona un fichero csv con los datos COVID por Zona Básica Sanitaria. Se actualiza aproximadamente, una vez por semana, y suele ser los martes.  [Datos COVID-19 por Zona Básica Sanitaria](https://datos.comunidad.madrid/catalogo/dataset/b3d55e40-8263-4c0b-827d-2bb23b5e7bab/resource/43708c23-2b77-48fd-9986-fa97691a2d59/download/covid19_tia_zonas_basicas_salud_s.csv)"
   ]
  },
  {
   "cell_type": "code",
   "execution_count": null,
   "metadata": {},
   "outputs": [],
   "source": [
    "# Cargamos los datos y los preparamos un poquito.\n",
    "\n",
    "df_zonas_basicas = pd.read_csv('zonas_basicas_salud/covid19_tia_zonas_basicas_salud_s.csv', sep=';', encoding='iso8859_15', decimal=',', parse_dates=['fecha_informe'])\n",
    "\n",
    "df_zonas_basicas.rename(columns={'tasa_incidencia_acumulada_ultimos_14dias':'TIA-14'}, inplace=True)  # Cambio el nombre de la columna por comodidad posterior.\n",
    "\n",
    "df_zonas_basicas['codigo_geo']=df_zonas_basicas['codigo_geometria'].str.strip()  # Los codigos vienen con espacios por detrás. Se los quito y aprovecho para cambiar el nombre.\n",
    "df_zonas_basicas['TIA-14']=df_zonas_basicas['TIA-14'].astype('int')\n",
    "df_zonas_basicas.drop(columns='codigo_geometria', inplace=True)  # Ya no es necesaria esta columna.\n",
    "\n",
    "df_zonas_basicas.head(3)"
   ]
  },
  {
   "cell_type": "markdown",
   "metadata": {},
   "source": [
    "<br><br>\n",
    "### 3.1 Filtramos los últimos datos del fichero"
   ]
  },
  {
   "cell_type": "code",
   "execution_count": null,
   "metadata": {},
   "outputs": [],
   "source": [
    "#  En el fichero vienen los datos semanales desde el 2 de julio. Ahora, queremos el último dato de cada ZBS. \n",
    "\n",
    "df_zbs_ultimo_dia = df_zonas_basicas.loc[(df_zonas_basicas.fecha_informe==df_zonas_basicas.fecha_informe.max()),['TIA-14','codigo_geo','fecha_informe']]\n",
    "\n",
    "df_zbs_ultimo_dia['fecha_informe']=df_zbs_ultimo_dia.fecha_informe.dt.strftime('%Y-%m-%d')\n",
    "\n",
    "df_zbs_ultimo_dia.info(memory_usage='deep')"
   ]
  },
  {
   "cell_type": "markdown",
   "metadata": {},
   "source": [
    "<br><br>\n",
    "Vemos un DataFrame con 286 registros.\n",
    "\n",
    "Uno por cada ZBS\n",
    "Con 3 campos en cada registro.\n",
    "- Codigo_geo:     Identifica a cada ZBS.\n",
    "- fecha_informe:  fecha de los datos\n",
    "- TIA-14:         Tasa de Incidencia Acumulada en los últimos 14 días."
   ]
  },
  {
   "cell_type": "code",
   "execution_count": null,
   "metadata": {},
   "outputs": [],
   "source": [
    "df_zbs_ultimo_dia.head(3)\n"
   ]
  },
  {
   "cell_type": "markdown",
   "metadata": {},
   "source": [
    "----\n",
    "----\n",
    "\n",
    "<br><br>\n",
    "## 4. Añadimos los datos de TIA-14 al GeoDataFrame"
   ]
  },
  {
   "cell_type": "code",
   "execution_count": null,
   "metadata": {},
   "outputs": [],
   "source": [
    "gdf_CAM_COVID=gdf_CAM_Mercator.merge(df_zbs_ultimo_dia,  on='codigo_geo')\n",
    "gdf_CAM_COVID.info(memory_usage='deep')"
   ]
  },
  {
   "cell_type": "code",
   "execution_count": null,
   "metadata": {},
   "outputs": [],
   "source": [
    "Mapa_ZBS_COVID = gv.Polygons(gdf_CAM_COVID, vdims=['TIA-14',('zona_basic', 'Zona Básica de Salud'), ('fecha_informe', 'Fecha del Dato')], crs=ccrs.GOOGLE_MERCATOR, hover_cols=['pob_pad19'])\n",
    "Mapa_ZBS_COVID"
   ]
  },
  {
   "cell_type": "markdown",
   "metadata": {},
   "source": [
    "---\n",
    "---\n",
    "### 5. Mapa interactivo con los datos.\n",
    "\n",
    " - Juntamos Mapa Base y la capa Mapa_ZBS_COVID.\n",
    " - Tocamos algo las opciones para adaptar la visibilidad."
   ]
  },
  {
   "cell_type": "code",
   "execution_count": null,
   "metadata": {},
   "outputs": [],
   "source": [
    "colormap_COVID = ['#006837' , '#86cb66', '#ffffbf', '#f98e52', '#a50026', '#000000']\n",
    "Niveles_COVID = [0,25,50, 150,250,400, 430]\n",
    "Colorbar_ticks = FixedTicker(ticks=[  12.5, 25, 37.5, 50, 100, 150, 200, 250, 325, 400, 430])\n",
    "Colorbar_labels =  {\n",
    "            37.5: 'Riesgo Bajo',\n",
    "            12.5: 'Nueva Normalidad',\n",
    "            25:   '25',\n",
    "            50:   '50',\n",
    "            100: 'Riesgo Medio',\n",
    "            150:  '150',\n",
    "            200: 'Riesgo Alto',\n",
    "            250:  '250',\n",
    "            325: 'Riesgo Extremo',\n",
    "            400:  '400',\n",
    "            430: 'Riesgo IDA Extremo'\n",
    "        }"
   ]
  },
  {
   "cell_type": "markdown",
   "metadata": {},
   "source": [
    "# Mapa Base con Shapes de ZBS y con gradiente de color según TIA-14"
   ]
  },
  {
   "cell_type": "code",
   "execution_count": null,
   "metadata": {},
   "outputs": [],
   "source": [
    "Mapa_Base * Mapa_ZBS_COVID.opts( color='TIA-14',  width=1000, height=900, tools=['hover'], alpha=0.7, color_levels=Niveles_COVID, clim=(0,430), cmap= colormap_COVID, colorbar=True, colorbar_opts={\n",
    "        'major_label_overrides': Colorbar_labels,\n",
    "        'major_label_text_align': 'left', 'ticker': Colorbar_ticks\n",
    "    })"
   ]
  },
  {
   "cell_type": "markdown",
   "metadata": {},
   "source": [
    "# Hacemos otro?"
   ]
  },
  {
   "cell_type": "code",
   "execution_count": null,
   "metadata": {},
   "outputs": [],
   "source": [
    "\n",
    "Mapa_ZBS_COVID.opts(alpha=0.9, width=700,height=630)"
   ]
  }
 ],
 "metadata": {
  "kernelspec": {
   "display_name": "python_38_geomaps",
   "language": "python",
   "name": "python_38_geomaps"
  },
  "language_info": {
   "codemirror_mode": {
    "name": "ipython",
    "version": 3
   },
   "file_extension": ".py",
   "mimetype": "text/x-python",
   "name": "python",
   "nbconvert_exporter": "python",
   "pygments_lexer": "ipython3",
   "version": "3.8.6"
  }
 },
 "nbformat": 4,
 "nbformat_minor": 4
}
