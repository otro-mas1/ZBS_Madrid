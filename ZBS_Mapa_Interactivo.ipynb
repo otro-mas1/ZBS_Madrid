{
 "cells": [
  {
   "cell_type": "markdown",
   "metadata": {},
   "source": [
    "<font color='darkblue' size=18>Zonas Basicas de Salud con python</font><img src=\"img/Mercator-projection.jpg\" align='right'><img src=\"img/python-logo.png\" align='right'>\n",
    "\n",
    "### <font color='darkblue' size=12> Comunidad de Madrid</font>\n",
    "\n",
    "#### Vamos a usar python y alguna de sus librerías para crear una representación gráfica de datos sobre un mapa.\n",
    "\n",
    "##### Para ello necesitamos:\n",
    "\n",
    "    1. Un mapa base.\n",
    "    2. Shape de cada área del mapa.\n",
    "    3. Datos a representar de cada área/shape.\n",
    "    4. Asociar los datos de ZBS a cada shape.\n",
    "    5. Mapa con los datos.\n",
    "\n",
    "---\n",
    "### Después de Crear el mapa interactivo:\n",
    "- Además de usarlo en el propio Notebook.\n",
    "- Lo exportamos en un fichero html.\n",
    "- lo exportamos en fichero gif.\n",
    "\n",
    "#### En este caso, serán datos de situación del COVID-19 en las Zonas Básicas de Salud de la Comunidad de Madrid.\n",
    "### Necesitamos datos:\n",
    "- Los shapes de las Zonas Básicas de Salud que forman el mapa de la Comunidad de Madrid.\n",
    "- Un dato a representar en el mapa. He escogido la Tasa de Incidencia Acumulada en los últimos 14 días. Esta serie de datos se llamará **TIA_14d**.\n",
    "\n",
    "### Necesitamos librerías que nos permitan acceder a los datos, procesarlos y presentarlos de manera interactiva:\n",
    "- Podemos usar datos en local ó acceder a ellos a traves de su url pública. En este caso será con ficheros locales. El ejemplo sin ficheros locales? **ZBS_Madrid_url.ipynb**\n",
    "- Vamos a usar hvplot por su sencillez, está muy relacionado con pandas y permite acceder a holoviews y bokeh. Terminando con opciones interactivas.\n",
    "\n",
    "\n",
    "<br><br>\n",
    "### Empecemos importando las librerías que vamos a usar"
   ]
  },
  {
   "cell_type": "code",
   "execution_count": null,
   "metadata": {},
   "outputs": [],
   "source": [
    "# # Las dos siguientes líneas de código nos permite usar el 100% del ancho de pantalla.\n",
    "from IPython.display import display, HTML, Markdown\n",
    "display(HTML(\"<style>.container { width:100% !important; }</style>\"))\n",
    "\n",
    "\n",
    "from IPython.core.interactiveshell import InteractiveShell  # Para mostrar más de una salida por celda en el notebook."
   ]
  },
  {
   "cell_type": "code",
   "execution_count": null,
   "metadata": {},
   "outputs": [],
   "source": [
    "import geopandas as gpd\n",
    "import geoviews as gv\n",
    "import cartopy.crs as ccrs\n",
    "import pandas as pd\n",
    "import numpy as np\n",
    "import panel as pn\n",
    "from bokeh.models import FixedTicker as bk_FixedTicker, HoverTool as bk_HoverTool\n",
    "import holoviews as hv\n",
    "\n",
    "import matplotlib.pyplot as plt\n",
    "import matplotlib as  mpl\n",
    "import matplotlib.colors as colors\n",
    "\n",
    "gv.extension('bokeh')"
   ]
  },
  {
   "cell_type": "markdown",
   "metadata": {},
   "source": [
    "<br><br>\n",
    "## 1. Mapa Base.\n",
    "\n",
    "    Será de Wikipedia. Hay otras opciones posibles de Mapa Base."
   ]
  },
  {
   "cell_type": "code",
   "execution_count": null,
   "metadata": {},
   "outputs": [],
   "source": [
    "Mapa_Base = gv.tile_sources.Wikipedia\n",
    "Mapa_Base  # Ya tenemos Mapa Base y es interactivo!!"
   ]
  },
  {
   "cell_type": "markdown",
   "metadata": {},
   "source": [
    "---\n",
    "---\n",
    "<br><br>\n",
    "## 2. Colección de shapes de ZBS de la Comunidad de Madrid.\n",
    "\n",
    "\n",
    "### - Cargamos en un GeoDataFrame los shapes y una columna extra pob_pad19. Los ficheros los proporciona la Comunidad de Madrid <img src=\"img/logo_comunidad.png\" align='right' />\n",
    "- La CAM proporciona un fichero zip con los shapes de las Zonas Básicas Sanitarias. [Datos de shapes](https://datos.comunidad.madrid/catalogo/dataset/b3d55e40-8263-4c0b-827d-2bb23b5e7bab/resource/f1837bd3-a835-4110-9bbf-fae06c99b56b/download/zonas_basicas_salud.zip)\n",
    "\n",
    "[WEB Datos de Zonas Básicas de Madrid](https://datos.comunidad.madrid/catalogo/dataset/covid19_tia_zonas_basicas_salud)\n",
    "- Podríamos acceder a estos ficheros directamente online ó descargarlo y usarlo como fichero local.\n",
    "<br><br>\n",
    "#### **PREVIAMENTE** he descargado esos ficheros a un subdirectorio llamado 'zonas_basicas_salud'\n",
    "### Cargando los shapes"
   ]
  },
  {
   "cell_type": "code",
   "execution_count": null,
   "metadata": {},
   "outputs": [],
   "source": [
    "\n",
    "gdf_CAM = gpd.read_file('zonas_basicas_salud') # Le he indicado el nombre del subdirectorio y geopandas se encarga de cargar lo necesario.\n",
    "\n",
    "gdf_CAM_Mercator = gdf_CAM.to_crs(ccrs.GOOGLE_MERCATOR.proj4_init)  # Hay que adaptar las coordenadas de los shapes al estandar Mercator. Conservo los dos GeoDataFrame por si se quieren ver después."
   ]
  },
  {
   "cell_type": "code",
   "execution_count": null,
   "metadata": {},
   "outputs": [],
   "source": [
    "Mapa_ZBS = gv.Polygons(gdf_CAM_Mercator, vdims=['pob_pad19', 'zona_basic'], crs=ccrs.GOOGLE_MERCATOR)  \n",
    "Mapa_ZBS   # Ya tenemos la capa de ZBS!!"
   ]
  },
  {
   "cell_type": "markdown",
   "metadata": {},
   "source": [
    "### 2.1 Juntamos el Base y los Shapes de ZBS"
   ]
  },
  {
   "cell_type": "code",
   "execution_count": null,
   "metadata": {},
   "outputs": [],
   "source": [
    "Mapa_Base * Mapa_ZBS  # Juntando Piezas."
   ]
  },
  {
   "cell_type": "markdown",
   "metadata": {},
   "source": [
    "----\n",
    "----\n",
    "<br><br>\n",
    "## 3. Cargamos datos de COVID para cada ZBS\n",
    "\n",
    "- La CAM proporciona un fichero csv con los datos COVID por Zona Básica Sanitaria. Se actualiza aproximadamente, una vez por semana, y suele ser los martes.  [Datos COVID-19 por Zona Básica Sanitaria](https://datos.comunidad.madrid/catalogo/dataset/b3d55e40-8263-4c0b-827d-2bb23b5e7bab/resource/43708c23-2b77-48fd-9986-fa97691a2d59/download/covid19_tia_zonas_basicas_salud_s.csv)"
   ]
  },
  {
   "cell_type": "code",
   "execution_count": null,
   "metadata": {},
   "outputs": [],
   "source": [
    "# Cargamos los datos y los preparamos un poquito.\n",
    "fichero_local=\"zonas_basicas_salud/covid19_tia_zonas_basicas_salud_s.csv\"\n",
    "url_fichero=\"https://datos.comunidad.madrid/catalogo/dataset/b3d55e40-8263-4c0b-827d-2bb23b5e7bab/resource/43708c23-2b77-48fd-9986-fa97691a2d59/download/covid19_tia_zonas_basicas_salud_s.csv\"\n",
    "\n",
    "# Usamos en este caso fichero remoto de la CAM\n",
    "\n",
    "df_zonas_basicas = pd.read_csv(url_fichero, sep=';', encoding='iso8859_15', decimal=',', parse_dates=['fecha_informe'])\n",
    "\n",
    "df_zonas_basicas.rename(columns={'tasa_incidencia_acumulada_ultimos_14dias':'TIA_14d'}, inplace=True)  # Cambio el nombre de la columna por comodidad posterior.\n",
    "\n",
    "df_zonas_basicas['codigo_geo']=df_zonas_basicas['codigo_geometria'].str.strip()  # Los codigos vienen con espacios por detrás. Se los quito y aprovecho para cambiar el nombre.\n",
    "df_zonas_basicas['TIA_14d']=df_zonas_basicas['TIA_14d'].astype('int')\n",
    "df_zonas_basicas.drop(columns='codigo_geometria', inplace=True)  # Ya no es necesaria esta columna.\n",
    "\n",
    "df_zonas_basicas.sort_values(by='fecha_informe', ascending=False).head()\n"
   ]
  },
  {
   "cell_type": "markdown",
   "metadata": {},
   "source": [
    "<br><br>\n",
    "### 3.1 Filtramos los últimos datos del fichero"
   ]
  },
  {
   "cell_type": "code",
   "execution_count": null,
   "metadata": {},
   "outputs": [],
   "source": [
    "#  En el fichero vienen los datos semanales desde el 2 de julio. Ahora, queremos el último dato de cada ZBS. \n",
    "\n",
    "df_zbs_ultimo_dia = df_zonas_basicas.loc[(df_zonas_basicas.fecha_informe==df_zonas_basicas.fecha_informe.max()),['TIA_14d','codigo_geo','fecha_informe']]\n",
    "\n",
    "df_zbs_ultimo_dia['fecha_informe']=df_zbs_ultimo_dia.fecha_informe.dt.strftime('%Y-%m-%d')\n",
    "\n",
    "df_zbs_ultimo_dia.info(memory_usage='deep')"
   ]
  },
  {
   "cell_type": "markdown",
   "metadata": {},
   "source": [
    "<br><br>\n",
    "Vemos un DataFrame con 286 registros.\n",
    "\n",
    "Uno por cada ZBS\n",
    "Con 3 campos en cada registro.\n",
    "- Codigo_geo:     Identifica a cada ZBS.\n",
    "- fecha_informe:  fecha de los datos\n",
    "- TIA-14:         Tasa de Incidencia Acumulada en los últimos 14 días."
   ]
  },
  {
   "cell_type": "code",
   "execution_count": null,
   "metadata": {},
   "outputs": [],
   "source": [
    "df_zbs_ultimo_dia.head(3)\n"
   ]
  },
  {
   "cell_type": "markdown",
   "metadata": {},
   "source": [
    "----\n",
    "----\n",
    "\n",
    "<br><br>\n",
    "## 4. Añadimos los datos de TIA_14d al GeoDataFrame"
   ]
  },
  {
   "cell_type": "code",
   "execution_count": null,
   "metadata": {},
   "outputs": [],
   "source": [
    "gdf_CAM_COVID=gdf_CAM_Mercator.merge(df_zbs_ultimo_dia,  on='codigo_geo')\n",
    "gdf_CAM_COVID.info(memory_usage='deep')"
   ]
  },
  {
   "cell_type": "code",
   "execution_count": null,
   "metadata": {},
   "outputs": [],
   "source": [
    "Mapa_ZBS_COVID = gv.Polygons(gdf_CAM_COVID, vdims=['TIA_14d',('zona_basic', 'Zona Básica de Salud'), ('fecha_informe', 'Fecha del Dato'), 'pob_pad19'], crs=ccrs.GOOGLE_MERCATOR).opts( line_color='grey', cmap='magma_r')\n",
    "Mapa_ZBS_COVID"
   ]
  },
  {
   "cell_type": "markdown",
   "metadata": {},
   "source": [
    "---\n",
    "---\n",
    "### 5. Mapa interactivo con los datos.\n",
    "\n",
    " - Juntamos Mapa Base y la capa Mapa_ZBS_COVID.\n",
    " - Tocamos algo las opciones para adaptar la visibilidad."
   ]
  },
  {
   "cell_type": "code",
   "execution_count": null,
   "metadata": {},
   "outputs": [],
   "source": [
    "df_zbs_ultimo_dia.info(memory_usage='deep')"
   ]
  },
  {
   "cell_type": "code",
   "execution_count": null,
   "metadata": {},
   "outputs": [],
   "source": [
    "# Definimos un colormap a medida para la ocasión con 5 Niveles de Color y añadimos el negro.\n",
    "\n",
    "colormap_COVID = ['#006837' , '#86cb66', '#ffffbf', '#f98e52', '#FF2222','#a50026']\n",
    "\n",
    "Niveles_COVID = [0, 25, 50, 150, 250, 500, 530]\n",
    "\n",
    "Colorbar_ticks = bk_FixedTicker(ticks=[  12.5, 25, 37.5, 50, 100, 150, 200, 250, 325, 500, 530])\n",
    "\n",
    "Colorbar_labels =  {\n",
    "            37.5: 'Riesgo Bajo',\n",
    "            12.5: 'Nueva Normalidad',\n",
    "            25:   '25',\n",
    "            50:   '50',\n",
    "            100: 'Riesgo Medio',\n",
    "            150:  '150',\n",
    "            200: 'Riesgo Alto',\n",
    "            250:  '250',\n",
    "            325: 'Riesgo Extremo',\n",
    "            500: '500 - Confinamiento Recomendado ECDC',\n",
    "            530: ''\n",
    "        }\n"
   ]
  },
  {
   "cell_type": "markdown",
   "metadata": {},
   "source": [
    "# Mapa Base con Shapes de ZBS y con gradiente de color según TIA_14d"
   ]
  },
  {
   "cell_type": "code",
   "execution_count": null,
   "metadata": {},
   "outputs": [],
   "source": [
    "Mapa_Base.opts(alpha=0.7, xaxis=None, yaxis=None) * \\\n",
    "Mapa_ZBS_COVID.opts( color='TIA_14d',  width=900, xaxis=None, yaxis=None, height=800, tools=['hover'], alpha=0.75,\n",
    "                    color_levels=Niveles_COVID, clim=(0,530), \n",
    "                    cmap= colormap_COVID, colorbar=True, colorbar_opts={\n",
    "                    'major_label_overrides': Colorbar_labels,\n",
    "                    'major_label_text_align': 'left', 'ticker': Colorbar_ticks\n",
    "                    })"
   ]
  },
  {
   "cell_type": "markdown",
   "metadata": {},
   "source": [
    "# Hacemos otro?\n",
    "\n",
    "Fácil de adaptar, el tamaño, la transparencia ('alpha') de los shapes. "
   ]
  },
  {
   "cell_type": "code",
   "execution_count": null,
   "metadata": {},
   "outputs": [],
   "source": [
    "Mapa_ZBS_COVID.opts( width=700,height=500, alpha=0.95)"
   ]
  },
  {
   "cell_type": "markdown",
   "metadata": {},
   "source": [
    "----\n",
    "<br><br>\n",
    "## Y cuando lo exportamos en formato html. Sigue interactivo!!"
   ]
  },
  {
   "cell_type": "code",
   "execution_count": null,
   "metadata": {},
   "outputs": [],
   "source": [
    "gv.renderer('bokeh').save( Mapa_ZBS_COVID, 'ZBS_Madrid')  # aquí hemos creado el fichero ZBS_Madrid.html SIN MAPA BASE"
   ]
  },
  {
   "cell_type": "code",
   "execution_count": null,
   "metadata": {},
   "outputs": [],
   "source": [
    "# Aqui lo exportamos CON MAPA BASE.\n",
    "# Personalmente me parece mejor opción.\n",
    "# Cuando haces zoom con la herramienta,\n",
    "# te permite ir identificando por donde te mueves en el mapa.\n",
    "\n",
    "gv.renderer('bokeh').save(Mapa_Base.opts(alpha=0.7, xaxis=None, yaxis=None) * \\\n",
    "                    Mapa_ZBS_COVID.opts(\\\n",
    "                        color='TIA_14d',  width=900, xaxis=None, yaxis=None, height=800, tools=['hover'], alpha=0.75,\n",
    "                        color_levels=Niveles_COVID, clim=(0,530), \n",
    "                        cmap= colormap_COVID, colorbar=True, colorbar_opts={\n",
    "                        'major_label_overrides': Colorbar_labels,\n",
    "                        'major_label_text_align': 'left', 'ticker': Colorbar_ticks\n",
    "                        }), 'ZBS_Madrid_CON_Base') "
   ]
  },
  {
   "cell_type": "markdown",
   "metadata": {},
   "source": [
    "<br><br>\n",
    "\n",
    "## Lo hacemos más interactivo con opción de Vistas por Condición?\n",
    "\n",
    "    - Por ejemplo: Filtrar las ZBS con TIA_14d mayor que un valor indicado. Es fácil.\n",
    "    \n",
    "    AVISO: Tarda un poquito en realizar el filtrado."
   ]
  },
  {
   "cell_type": "code",
   "execution_count": null,
   "metadata": {},
   "outputs": [],
   "source": [
    "# Creamos un pop-up a medida\n",
    "\n",
    "hover_ZBS = bk_HoverTool(tooltips= [  (\"Zona Básica Sanitaria  \", \"  @zona_basic\"), (\"TIA-14 \", \" @{TIA_14d}{0.0}\"), (\"Dia \" , \" @{fecha_informe}{%F}\") ],\n",
    "                         formatters={'@{fecha_informe}': 'datetime'} )\n",
    "\n"
   ]
  },
  {
   "cell_type": "code",
   "execution_count": null,
   "metadata": {},
   "outputs": [],
   "source": [
    "# Creamos una función para reutilizarla\n",
    "\n",
    "gv.extension('bokeh')\n",
    "\n",
    "def Actualizar_polys(umbral):\n",
    "    \n",
    "    return gv.Polygons(gdf_CAM_COVID[gdf_CAM_COVID['TIA_14d'] > umbral],\n",
    "                       vdims=['TIA_14d', 'zona_basic','fecha_informe'],\n",
    "                       crs=ccrs.GOOGLE_MERCATOR).opts(\\\n",
    "                                clim=(0, 530), width=900, height=950,\n",
    "                                tools=[hover_ZBS], alpha=0.75,\n",
    "                                color_levels=Niveles_COVID,\n",
    "                                line_color='grey',\n",
    "                                cmap= colormap_COVID,\n",
    "                                colorbar=True, colorbar_opts={\n",
    "                                    'major_label_overrides': Colorbar_labels,\n",
    "                                    'major_label_text_align': 'left', 'ticker': Colorbar_ticks\n",
    "                                    }\n",
    "                    )\n",
    "\n",
    "\n",
    "\n",
    "\n",
    "wdg_IntSlider = pn.widgets.IntSlider(name='TIA_14d Mayor que ', start=0, end=int(gdf_CAM_COVID['TIA_14d'].max()-1), value=250)\n",
    "\n",
    "\n",
    "pn.Row(\n",
    "    wdg_IntSlider,\n",
    "    gv.tile_sources.Wikipedia(alpha=0.6) * \n",
    "    gv.DynamicMap(pn.bind(Actualizar_polys, wdg_IntSlider))\n",
    ")\n",
    "\n"
   ]
  },
  {
   "cell_type": "markdown",
   "metadata": {},
   "source": [
    "---\n",
    "---\n",
    "\n",
    "<br><br>\n",
    "## Ahora creamos un GeoDataFrame con los datos históricos de las ZBS\n",
    "## para todas las fechas desde el verano en el GeoDataFrame gdf_zbs_historico."
   ]
  },
  {
   "cell_type": "code",
   "execution_count": null,
   "metadata": {},
   "outputs": [],
   "source": [
    "gdf_CAM.crs"
   ]
  },
  {
   "cell_type": "code",
   "execution_count": null,
   "metadata": {},
   "outputs": [],
   "source": [
    "\n",
    "gdf_zbs_historico = gdf_CAM_Mercator.merge(df_zonas_basicas, on='codigo_geo')\n",
    "\n",
    "gdf_zbs_historico.info(memory_usage='deep')\n"
   ]
  },
  {
   "cell_type": "markdown",
   "metadata": {},
   "source": [
    "<br><br>\n",
    "# <font color='darkblue' size=12>Más Interactivo\n",
    "## Permitimos interactuar tanto por umbral de TIA_14d\n",
    "## como la evolución en el tiempo de todas las ZBS."
   ]
  },
  {
   "cell_type": "code",
   "execution_count": null,
   "metadata": {},
   "outputs": [],
   "source": [
    "hv.extension( 'bokeh')\n",
    "\n",
    "def Actualizar_polys_fecha(umbral, fecha):\n",
    "    \n",
    "    return gv.Polygons(gdf_zbs_historico.loc[(gdf_zbs_historico['TIA_14d'] > umbral) & (gdf_zbs_historico.fecha_informe.dt.strftime(\"%F\")==fecha)],\n",
    "                       vdims=['TIA_14d', 'zona_basic', 'fecha_informe'], crs=ccrs.GOOGLE_MERCATOR).opts(\n",
    "                            clim=(0, 530), width=800, height=650, tools=[hover_ZBS], xaxis=True, yaxis=True,\n",
    "                            color_levels=Niveles_COVID, line_color='grey',\n",
    "                            cmap= colormap_COVID, colorbar=True, colorbar_opts={\n",
    "                            'major_label_overrides': Colorbar_labels,\n",
    "                            'major_label_text_align': 'left', 'ticker': Colorbar_ticks, 'scale_alpha':0.7\n",
    "                            }, alpha=0.70 )\n",
    "\n",
    "\n",
    "\n",
    "fechas = sorted(gdf_zbs_historico.fecha_informe.dt.strftime(\"%F\").unique())\n",
    "\n",
    "wdg_IntSlider = pn.widgets.IntSlider(name='TIA_14d Mayor que ', start=0, end=int(gdf_zbs_historico['TIA_14d'].max()-1))\n",
    "wdg_Slider = pn.widgets.DiscreteSlider(name='Dia ', options=fechas, value=fechas[-1])\n",
    "\n",
    "pn.Row( pn.Column(\n",
    "            Markdown(f\"## <br><br> Puedes filtrar el valor de TIA-14d.\"),\n",
    "            Markdown(f\"### Presentará las ZBS con TIA_14d Mayor de la seleccionada.\"),\n",
    "            Markdown(f\"<br>## Se puede seleccionar otras fechas para ver el pasado y la evolución\"),\n",
    "    wdg_IntSlider, wdg_Slider),\n",
    "    gv.tile_sources.Wikipedia(alpha=0.99) * # Un valor tan alto, no afecta. Simplemente recuerda ser cambiable.\n",
    "    gv.DynamicMap(pn.bind(Actualizar_polys_fecha, wdg_IntSlider, wdg_Slider))\n",
    ")\n",
    "\n"
   ]
  },
  {
   "cell_type": "code",
   "execution_count": null,
   "metadata": {},
   "outputs": [],
   "source": [
    "# Cuántás ZBS hay en cada Nivel de Riesgo\n",
    "df_rangos = gdf_CAM_COVID.TIA_14d.value_counts(bins=pd.IntervalIndex.from_tuples([ (0, 25), (25,50), (50, 150), (150, 250), (250, 400), (400, gdf_CAM_COVID.TIA_14d.max()+1)], closed='left' )).sort_index(ascending=False)\n",
    "df_rangos"
   ]
  },
  {
   "cell_type": "markdown",
   "metadata": {},
   "source": [
    "---\n",
    "<br><br>\n",
    "#### Vamos a crear la evolución de la IA-14d para la CAM en formato gif.\n",
    "#### Para ello, primero creamos el Mapa de la CAM para una fecha determinada y lo exportamos a un fichero png.\n",
    "#### Luego creamos un bucle por todas las fechas y exportamos cada uno de los ficheros png.\n",
    "#### Terminamos juntando todos los ficheros png en un fichero gif.\n"
   ]
  },
  {
   "cell_type": "code",
   "execution_count": null,
   "metadata": {},
   "outputs": [],
   "source": [
    "Colorbar_ticks = bk_FixedTicker(ticks=[  12.5, 25, 37.5, 50, 100, 150, 200, 250, 325, 500, 530])\n",
    "\n",
    "mpl_ticks=[  12.5, 25, 37.5, 50, 100, 150, 200, 250, 325, 500, 530]\n",
    "Colorbar_labels =  {\n",
    "            37.5: 'Riesgo Bajo',\n",
    "            12.5: 'Nueva Normalidad',\n",
    "            25:   '25',\n",
    "            50:   '50',\n",
    "            100: 'Riesgo Medio',\n",
    "            150:  '150',\n",
    "            200: 'Riesgo Alto',\n",
    "            250:  '250',\n",
    "            325: 'Riesgo Extremo',\n",
    "            500: '500 - Confinamiento Recomendado ECDC',\n",
    "            530: ''\n",
    "        }"
   ]
  },
  {
   "cell_type": "markdown",
   "metadata": {},
   "source": [
    "### Creamos una función con Matplotlib\n",
    "### - creará el mapa para cada fecha\n",
    "### - Lo graba en fichero png\n",
    "### Después los juntaremos en un fichero gif"
   ]
  },
  {
   "cell_type": "code",
   "execution_count": null,
   "metadata": {},
   "outputs": [],
   "source": [
    "# Rango de valores\n",
    "vmin, vmax = 0, 530\n",
    "hv.extension( 'matplotlib');\n",
    "\n",
    "## Función Mapa_ZBS_para fecha.\n",
    "def mpl_ZBS_fecha(gdf, vmin, vmax, fecha, titulo):\n",
    "    \n",
    "    png_fecha=f\"img/{gdf.fecha_informe.iloc[0].strftime('%F')}.png\"\n",
    "    \n",
    "    # colormap a medida\n",
    "    cmap = colors.ListedColormap(colormap_COVID, N=6)\n",
    "    norm = colors.BoundaryNorm(Niveles_COVID, len(Niveles_COVID))\n",
    "\n",
    "    fig, ax = plt.subplots( figsize=(10, 9) )\n",
    "    \n",
    "    mpl_mapa = gdf.plot( column='TIA_14d',cmap=cmap, ax=ax,\n",
    "                        linewidth=0.1, edgecolor='0.8', \n",
    "                        vmin=vmin, vmax=vmax, norm=norm )\n",
    "\n",
    "    mpl_mapa.set_title(titulo, fontdict={'fontsize': 20, 'fontweight' : 3})\n",
    "    \n",
    "    mpl_mapa.axis('off')\n",
    "\n",
    "    mpl_mapa.annotate(gdf.fecha_informe.iloc[0].strftime(\"%F\"),\n",
    "                xy=(0,0),xytext=(480,420), xycoords='figure points', fontsize= 25 )\n",
    "\n",
    "    cax = fig.add_axes([0.1, 0.1, 0.051, 0.75])  # Para ubicar colorbar\n",
    "\n",
    "    cbar =plt.colorbar(\n",
    "        mpl.cm.ScalarMappable(cmap=cmap, norm=norm),\n",
    "        cax=cax,\n",
    "        boundaries= Niveles_COVID,\n",
    "        extend='neither',\n",
    "        spacing='proportional',\n",
    "        orientation='vertical',\n",
    "        ticks=mpl_ticks,\n",
    "    )\n",
    "\n",
    "    \n",
    "    cbar.set_ticklabels(['Nueva Normalidad', 25, 'Riesgo Bajo', 50, 'Riesgo Medio', 150, 'Riesgo Alto', 250, 'Riesgo Extremo', '+500 Confinamiento\\nRecomendado ECDC'] )\n",
    "\n",
    "    bbox_inches='tight'\n",
    "    \n",
    "    return fig\n",
    "\n",
    "\n",
    "\n",
    "\n",
    "# Ahora probamos la creación de un Mapa para una fecha con los datos para una fecha concreta\n",
    "\n",
    "fig_Mapa_ZBS_fecha =    mpl_ZBS_fecha(gdf_zbs_historico.loc[(gdf_zbs_historico.fecha_informe.dt.strftime(\"%F\")==\"2021-01-19\")],\n",
    "                                   vmin, vmax, \n",
    "                                   '2021-01-19',\n",
    "                                   'Comunidad de Madrid -- Semáforo COVID\\n Incidencia Acumulada en 14 días por 100.000 habitantes')\n",
    "plt.show()\n",
    "plt.close(fig_Mapa_ZBS_fecha)\n",
    "\n",
    "# La salida del mapa puede parecer desajustada.\n",
    "# Sin embargo, al crear el gif lo deja 'colocado'\n"
   ]
  },
  {
   "cell_type": "code",
   "execution_count": null,
   "metadata": {},
   "outputs": [],
   "source": [
    "# Ahora usamos la funcion para crear un Mapa para cada fecha\n",
    "\n",
    "lista_files=[]\n",
    "hv.extension( 'matplotlib');\n",
    "\n",
    "for fecha in gdf_zbs_historico.fecha_informe.dt.date.unique():  # Para cada fecha\n",
    "    \n",
    "    gdf_zbs_fecha = gdf_zbs_historico.loc[(gdf_zbs_historico.fecha_informe.dt.strftime(\"%F\")==fecha.strftime(\"%F\"))]\n",
    "    \n",
    "    png_fecha=f\"img/{gdf_zbs_fecha.fecha_informe.iloc[0].strftime('%F')}.png\"\n",
    "\n",
    "    print(f\"Creando para {fecha} ... fichero {png_fecha}\")\n",
    "    \n",
    "    fig_Mapa_ZBS_fecha = mpl_ZBS_fecha( gdf_zbs_fecha, vmin, vmax, fecha,\n",
    "                                  'Comunidad de Madrid -- Semáforo COVID\\n Incidencia Acumulada en 14 días por 100.000 habitantes')\n",
    "    \n",
    "    fig_Mapa_ZBS_fecha.savefig(png_fecha, dpi=100, facecolor='lightgray', pad_inches=0.1  )\n",
    "    \n",
    "    plt.close(fig_Mapa_ZBS_fecha)\n",
    "\n",
    "    lista_files.append(png_fecha)  # Añadido a la lista de ficheros."
   ]
  },
  {
   "cell_type": "markdown",
   "metadata": {},
   "source": [
    "---\n",
    "<br>\n",
    "<br>\n",
    "\n",
    "### Ahora hacemos la conversión a gif de los png generados"
   ]
  },
  {
   "cell_type": "code",
   "execution_count": null,
   "metadata": {},
   "outputs": [],
   "source": [
    "import os\n",
    "import imageio\n",
    "\n",
    "\n",
    "images = []\n",
    "for file_name in sorted(lista_files):        \n",
    "        images.append(imageio.imread(file_name))\n",
    "        \n",
    "imageio.mimsave('img/CAM_ia14d.gif', images, fps=1 )"
   ]
  },
  {
   "cell_type": "code",
   "execution_count": null,
   "metadata": {},
   "outputs": [],
   "source": []
  }
 ],
 "metadata": {
  "kernelspec": {
   "display_name": "pyviz_38",
   "language": "python",
   "name": "pyviz_38"
  },
  "language_info": {
   "codemirror_mode": {
    "name": "ipython",
    "version": 3
   },
   "file_extension": ".py",
   "mimetype": "text/x-python",
   "name": "python",
   "nbconvert_exporter": "python",
   "pygments_lexer": "ipython3",
   "version": "3.8.6"
  }
 },
 "nbformat": 4,
 "nbformat_minor": 4
}
